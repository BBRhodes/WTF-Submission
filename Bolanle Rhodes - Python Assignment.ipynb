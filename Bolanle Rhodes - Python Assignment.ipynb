{
 "cells": [
  {
   "cell_type": "markdown",
   "id": "065fc0a3",
   "metadata": {},
   "source": [
    "Bolanle Rhodes- WTF/23/DS/A/063"
   ]
  },
  {
   "cell_type": "markdown",
   "id": "7062eb82",
   "metadata": {},
   "source": [
    "# Print all elements of a list using for loop"
   ]
  },
  {
   "cell_type": "code",
   "execution_count": 2,
   "id": "ae08ec8f",
   "metadata": {},
   "outputs": [
    {
     "name": "stdout",
     "output_type": "stream",
     "text": [
      "father\n",
      "mother\n",
      "son\n",
      "daughter\n",
      "cousin\n",
      "uncle\n",
      "aunt\n",
      "grandfather\n",
      "grandmother\n"
     ]
    }
   ],
   "source": [
    "Family = ['father', 'mother', 'son', 'daughter', 'cousin', 'uncle', 'aunt', 'grandfather', 'grandmother']\n",
    "for x in Family:\n",
    "    print (x)"
   ]
  },
  {
   "cell_type": "markdown",
   "id": "e46285dd",
   "metadata": {},
   "source": [
    "# Using range(1,101), make two list, one containing all even numbers and other containing all odd numbers."
   ]
  },
  {
   "cell_type": "code",
   "execution_count": 100,
   "id": "cde10590",
   "metadata": {
    "scrolled": true
   },
   "outputs": [
    {
     "name": "stdout",
     "output_type": "stream",
     "text": [
      "even_numlist:  [6, 12, 44, 96]\n",
      "odd_numlist:  [1, 15, 37, 63, 79, 85, 99]\n"
     ]
    }
   ],
   "source": [
    "def split(Uni):\n",
    "    even_numlist = []\n",
    "    odd_numlist = []\n",
    "    for x in Uni:\n",
    "        if (x % 2 == 0):\n",
    "            even_numlist.append(x)\n",
    "        else:\n",
    "            odd_numlist.append(x)     \n",
    "    print('even_numlist: ', even_numlist)\n",
    "    print('odd_numlist: ', odd_numlist)\n",
    "Uni = (1,6,12,15,37,44,63,79,85,96,99)\n",
    "split(Uni)"
   ]
  },
  {
   "cell_type": "markdown",
   "id": "1affcab7",
   "metadata": {},
   "source": [
    "# A company decided to give bonus of 5% to employee if his/her year of service is more than 5years. Ask user for their salary and year of service and print the net bonus amount."
   ]
  },
  {
   "cell_type": "code",
   "execution_count": 102,
   "id": "d2679631",
   "metadata": {},
   "outputs": [
    {
     "name": "stdout",
     "output_type": "stream",
     "text": [
      "Salary = 500000\n",
      "Year of service = 7\n",
      "net_bonus is  25000.0\n"
     ]
    }
   ],
   "source": [
    "Salary = int(input(\"Salary = \"))\n",
    "Year = int(input(\"Year of service = \"))\n",
    "if Year>5:\n",
    "    print(\"net_bonus is \", 0.05*Salary)"
   ]
  },
  {
   "cell_type": "markdown",
   "id": "8b19cac8",
   "metadata": {},
   "source": [
    "# Take input of age of 3 people by user and determine oldest and youngest among them "
   ]
  },
  {
   "cell_type": "code",
   "execution_count": 64,
   "id": "9b6b9f86",
   "metadata": {
    "scrolled": true
   },
   "outputs": [
    {
     "name": "stdout",
     "output_type": "stream",
     "text": [
      "45\n",
      "23\n",
      "54\n",
      "The Oldest is Kay 54\n"
     ]
    }
   ],
   "source": [
    "Abby = input()\n",
    "Timi= input()\n",
    "Kay = input()\n",
    "\n",
    "if Abby >= Timi and Abby >= Kay:\n",
    "    print ('The Oldest is Abby', Abby)\n",
    "elif Timi >= Abby and Timi >= Kay:\n",
    "    print ('The Oldest is Timi', Timi)\n",
    "elif Kay >= Abby and Kay >= Timi:\n",
    "    print ('The Oldest is Kay', Kay)\n",
    "else:\n",
    "    print('All are equal')\n"
   ]
  },
  {
   "cell_type": "markdown",
   "id": "7bf60d5d",
   "metadata": {},
   "source": [
    "# A school has following rules for grading system: \n",
    "a. Below 25 - F\n",
    "b. 25 to 45 - E\n",
    "c. 45 to 50 - D\n",
    "d. 50 to 60 - C\n",
    "e. 60 to 80 - B\n",
    "f. Above 80 - A\n",
    "# Ask user to enter marks and print the corresponding grade"
   ]
  },
  {
   "cell_type": "code",
   "execution_count": 103,
   "id": "cc729445",
   "metadata": {},
   "outputs": [
    {
     "name": "stdout",
     "output_type": "stream",
     "text": [
      "Score 68\n",
      "B\n"
     ]
    }
   ],
   "source": [
    "score = input(\"Score \")\n",
    "score = int(score)\n",
    "if score < 25:\n",
    "    print(\"F\")\n",
    "elif score >= 25 and score < 45:\n",
    "    print(\"E\")\n",
    "elif score >= 45 and score < 50:\n",
    "    print(\"D\")\n",
    "elif score >= 50 and score < 60:\n",
    "    print(\"C\")\n",
    "elif score >= 60 and score < 80: \n",
    "    print(\"B\")\n",
    "else:\n",
    "    print(\"A\")"
   ]
  },
  {
   "cell_type": "markdown",
   "id": "4398ece1",
   "metadata": {},
   "source": [
    "# Write a Python script to merge two Python dictionaries\n"
   ]
  },
  {
   "cell_type": "code",
   "execution_count": 36,
   "id": "10456c9d",
   "metadata": {},
   "outputs": [
    {
     "name": "stdout",
     "output_type": "stream",
     "text": [
      "{'father': 'Adekunle', 'mother': 'Motunrayo', 'son': 'Olaolu', 'daughter': 'Ayomide'}\n"
     ]
    }
   ],
   "source": [
    "Parent = {'father':'Adekunle','mother':'Motunrayo'}\n",
    "Children = {'son':'Olaolu','daughter':'Ayomide'}\n",
    "print(Parent|Children)"
   ]
  },
  {
   "cell_type": "markdown",
   "id": "e628bb9b",
   "metadata": {},
   "source": [
    "# Write a Python program to remove a key from a dictionary."
   ]
  },
  {
   "cell_type": "code",
   "execution_count": 22,
   "id": "678a8006",
   "metadata": {},
   "outputs": [
    {
     "name": "stdout",
     "output_type": "stream",
     "text": [
      "{'father': 'Adekunle', 'mother': 'Motunrayo', 'son': 'Olaolu', 'daughter': 'Ayomide', 'grandma': 'Kehinde'}\n"
     ]
    }
   ],
   "source": [
    "Dict_Fam = {'father':'Adekunle','mother':'Motunrayo','son': 'Olaolu','daughter':'Ayomide','grandpa':'Ishola','grandma':'Kehinde'}\n",
    "del Dict_Fam['grandpa']\n",
    "print(Dict_Fam)"
   ]
  },
  {
   "cell_type": "markdown",
   "id": "9efb8010",
   "metadata": {},
   "source": [
    "# Write a Python program to get the largest number from a list"
   ]
  },
  {
   "cell_type": "code",
   "execution_count": 42,
   "id": "5fc80c89",
   "metadata": {},
   "outputs": [
    {
     "name": "stdout",
     "output_type": "stream",
     "text": [
      "88\n"
     ]
    }
   ],
   "source": [
    "num = [65,30,6,25,7,88,42,18,76,51]\n",
    "print(max(num))"
   ]
  }
 ],
 "metadata": {
  "kernelspec": {
   "display_name": "Python 3 (ipykernel)",
   "language": "python",
   "name": "python3"
  },
  "language_info": {
   "codemirror_mode": {
    "name": "ipython",
    "version": 3
   },
   "file_extension": ".py",
   "mimetype": "text/x-python",
   "name": "python",
   "nbconvert_exporter": "python",
   "pygments_lexer": "ipython3",
   "version": "3.9.12"
  }
 },
 "nbformat": 4,
 "nbformat_minor": 5
}
